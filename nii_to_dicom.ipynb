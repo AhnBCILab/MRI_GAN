{
 "cells": [
  {
   "cell_type": "code",
   "execution_count": 4,
   "metadata": {},
   "outputs": [
    {
     "name": "stdout",
     "output_type": "stream",
     "text": [
      "C:/Users/USER/Desktop/test_nii/ADNI_014_S_0548_MR_MPR__GradWarp__B1_Correction__N3__Scaled_Br_20070213003619175_S14921_I39665.nii.gz\n",
      "C:/Users/USER/Desktop/test_nii/ADNI_014_S_0548_MR_MPR__GradWarp__B1_Correction__N3__Scaled_Br_20100416104145229_S70313_I171133.nii.gz\n",
      "C:/Users/USER/Desktop/test_nii/ADNI_020_S_0883_MR_MPR__GradWarp__B1_Correction__N3__Scaled_Br_20070718141322351_S19459_I60673.nii.gz\n",
      "C:/Users/USER/Desktop/test_nii/ADNI_020_S_0883_MR_MPR__GradWarp__B1_Correction__N3__Scaled_Br_20101028140652680_S76708_I200229.nii.gz\n",
      "C:/Users/USER/Desktop/test_nii/ADNI_020_S_0899_MR_MPR__GradWarp__B1_Correction__N3__Scaled_Br_20070718121152849_S19329_I60618.nii.gz\n",
      "C:/Users/USER/Desktop/test_nii/ADNI_020_S_0899_MR_MPR__GradWarp__B1_Correction__N3__Scaled_Br_20101028140203060_S76597_I200217.nii.gz\n",
      "C:/Users/USER/Desktop/test_nii/ADNI_052_S_1352_MR_MPR__GradWarp__B1_Correction__N3__Scaled_Br_20070727120722606_S27549_I62319.nii.gz\n",
      "C:/Users/USER/Desktop/test_nii/ADNI_052_S_1352_MR_MPR__GradWarp__B1_Correction__N3__Scaled_Br_20101110114102569_S86927_I204081.nii.gz\n",
      "****** Start the Process\n",
      "Converting the following NIfTI to DICOM...:ADNI_014_S_0548_MR_MPR__GradWarp__B1_Correction__N3__Scaled_Br_20070213003619175_S14921_I39665\n",
      "Converting the following NIfTI to DICOM...:ADNI_014_S_0548_MR_MPR__GradWarp__B1_Correction__N3__Scaled_Br_20100416104145229_S70313_I171133\n",
      "Converting the following NIfTI to DICOM...:ADNI_020_S_0883_MR_MPR__GradWarp__B1_Correction__N3__Scaled_Br_20070718141322351_S19459_I60673\n",
      "Converting the following NIfTI to DICOM...:ADNI_020_S_0883_MR_MPR__GradWarp__B1_Correction__N3__Scaled_Br_20101028140652680_S76708_I200229\n",
      "Converting the following NIfTI to DICOM...:ADNI_020_S_0899_MR_MPR__GradWarp__B1_Correction__N3__Scaled_Br_20070718121152849_S19329_I60618\n",
      "Converting the following NIfTI to DICOM...:ADNI_020_S_0899_MR_MPR__GradWarp__B1_Correction__N3__Scaled_Br_20101028140203060_S76597_I200217\n",
      "Converting the following NIfTI to DICOM...:ADNI_052_S_1352_MR_MPR__GradWarp__B1_Correction__N3__Scaled_Br_20070727120722606_S27549_I62319\n",
      "Converting the following NIfTI to DICOM...:ADNI_052_S_1352_MR_MPR__GradWarp__B1_Correction__N3__Scaled_Br_20101110114102569_S86927_I204081\n",
      "****** Finished the Process\n"
     ]
    }
   ],
   "source": [
    "import os\n",
    "\n",
    "def convert_nugget(inputPath, outputPath, targetExtension):\n",
    "\n",
    "    targetList = []\n",
    "\n",
    "    for file in os.listdir(inputPath):\n",
    "        if file.endswith(targetExtension):\n",
    "            targetPath = os.path.join(inputPath, file)\n",
    "            print(targetPath)\n",
    "            targetList.append(targetPath)\n",
    "\n",
    "    print(\"****** Start the Process\")\n",
    "\n",
    "    for target in targetList:\n",
    "        # 경로에서 target_name 부분의 이름만을 나눔\n",
    "        os.path.split(target)\n",
    "        subjID = os.path.split(target)[1]\n",
    "        subjID = subjID.replace(targetExtension, \"\")\n",
    "        p1 = \"plastimatch.exe convert --input \" # +target \n",
    "        p2 = \" --output-dicom \" # +outputPath\n",
    "        outFolder = os.path.join(outputPath, subjID)\n",
    "        operation_command = p1 + target + p2 + outFolder\n",
    "        os.system(operation_command)\n",
    "        print(\"Converting the following NIfTI to DICOM...:\" + subjID)\n",
    "\n",
    "    print(\"****** Finished the Process\")\n",
    "\n",
    "if __name__ == \"__main__\" :\n",
    "\n",
    "    inputPath = \"C:/Users/USER/Desktop/test_nii/\" # 이미지 폴더 경로\n",
    "    outputPath = \"C:/Users/USER/Desktop/test_dicom/\" # DICOM 파일 생성 폴더\n",
    "    targetExtension = \".nii.gz\" # 타겟 파일 확장자 .nii or nii.gz\n",
    "\n",
    "    convert_nugget(inputPath, outputPath, targetExtension) # Converting 함수\n"
   ]
  },
  {
   "cell_type": "code",
   "execution_count": null,
   "metadata": {},
   "outputs": [],
   "source": []
  },
  {
   "cell_type": "code",
   "execution_count": null,
   "metadata": {},
   "outputs": [],
   "source": []
  }
 ],
 "metadata": {
  "kernelspec": {
   "display_name": "Python 3",
   "language": "python",
   "name": "python3"
  },
  "language_info": {
   "codemirror_mode": {
    "name": "ipython",
    "version": 3
   },
   "file_extension": ".py",
   "mimetype": "text/x-python",
   "name": "python",
   "nbconvert_exporter": "python",
   "pygments_lexer": "ipython3",
   "version": "3.8.5"
  }
 },
 "nbformat": 4,
 "nbformat_minor": 4
}
