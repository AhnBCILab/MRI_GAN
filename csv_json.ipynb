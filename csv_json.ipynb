{
 "cells": [
  {
   "cell_type": "code",
   "execution_count": 11,
   "metadata": {},
   "outputs": [],
   "source": [
    "import csv\n",
    "import json\n",
    "\n",
    "seg_list = ['left_cerebral_white_matter', 'left_lateral_ventricle', 'left_inferior_lateral_ventricle', 'left_cerebellum_white_matter',\n",
    "            'left_cerebellum_cortex', 'left_thalamus_proper', 'left_caudate', 'left_putamen', 'left_pallidum', '3rd_ventricle', '4th_ventricle',\n",
    "           'left_hippocampus', 'left_amygdala', 'left_accumbens_area', 'left_ventraldc', 'right_cerebral_white_matter', 'right_lateral_ventricle',\n",
    "           'right_inferior_lateral_ventricle', 'right_cerebellum_white_matter', 'right_cerebellum_cortex', 'right_thalamus_proper', 'right_caudate',\n",
    "           'right_putamen', 'right_pallidum', 'right_hippocampus', 'right_amygdala', 'right_accumbens_area', 'right_ventraldc', 'corpus_callosum',\n",
    "           'ctx_left_bankssts', 'ctx_left_caudal_anterior_cingulate', 'ctx_left_caudal_middle_frontal', 'ctx_left_cuneus', 'ctx_left_entorhinal',\n",
    "           'ctx_left_fusiform', 'ctx_left_inferior_parietal', 'ctx_left_inferior_temporal', 'ctx_left_isthmus_cingulate', 'ctx_left_lateral_occipital',\n",
    "           'ctx_left_lateral_orbito_frontal', 'ctx_left_lingual', 'ctx_left_medial_orbito_frontal', 'ctx_left_middle_temporal', 'ctx_left_parahippocampal',\n",
    "           'ctx_left_paracentral', 'ctx_left_pars_opercularis', 'ctx_left_pars_orbitalis', 'ctx_left_pars_triangularis', 'ctx_left_pericalcarine',\n",
    "           'ctx_left_postcentral', 'ctx_left_posterior_cingulate', 'ctx_left_precentral', 'ctx_left_precuneus', 'ctx_left_rostral_anterior_cingulate',\n",
    "           'ctx_left_rostral_middle_frontal', 'ctx_left_superior_frontal', 'ctx_left_superior_parietal', 'ctx_left_superior_temporal',\n",
    "            'ctx_left_supramarginal', 'ctx_left_frontal_pole', 'ctx_left_temporal_pole', 'ctx_left_transverse_temporal', 'ctx_left_insula',\n",
    "            'ctx_right_bankssts', 'ctx_right_caudal_anterior_cingulate', 'ctx_right_caudal_middle_frontal', 'ctx_right_cuneus', 'ctx_right_entorhinal',\n",
    "           'ctx_right_fusiform', 'ctx_right_inferior_parietal', 'ctx_right_inferior_temporal', 'ctx_right_isthmus_cingulate', 'ctx_right_lateral_occipital',\n",
    "           'ctx_right_lateral_orbito_frontal', 'ctx_right_lingual', 'ctx_right_medial_orbito_frontal', 'ctx_right_middle_temporal',\n",
    "           'ctx_right_parahippocampal', 'ctx_right_paracentral', 'ctx_right_pars_opercularis', 'ctx_right_pars_orbitalis', 'ctx_right_pars_triangularis',\n",
    "           'ctx_right_pericalcarine', 'ctx_right_postcentral', 'ctx_right_posterior_cingulate', 'ctx_right_precentral', 'ctx_right_precuneus',\n",
    "           'ctx_right_rostral_anterior_cingulate', 'ctx_right_rostral_middle_frontal', 'ctx_right_superior_frontal', 'ctx_right_superior_parietal',\n",
    "           'ctx_right_superior_temporal', 'ctx_right_supramarginal', 'ctx_right_frontal_pole', 'ctx_right_temporal_pole', 'ctx_right_transverse_temporal',\n",
    "           'ctx_right_insula']\n",
    "\n",
    "f = open('json.csv', 'w', encoding='utf-8')\n",
    "with open('D:/Database/importedFiles/aqua/sub_0001/2020/09/12826/store/result/series_5f7eb0437a7d000036000794_t1_volume_20201008.json', 'r') as file:\n",
    "    json_data = json.load(file)\n",
    "\n",
    "csv_writer = csv.writer(f)\n",
    "#csv_writer.writerow(['name', 'volume'])\n",
    "#for i in range(97):\n",
    "#    csv_writer.writerow([seg_list[i], json_data['vol_v2'][seg_list[i]]])\n",
    "\n",
    "csv_writer.writerow(seg_list)\n",
    "csv_writer.writerow(json_data['vol_v2'].values())\n",
    "\n",
    "#print(json_data['vol_v2'].values())\n",
    "\n",
    "f.close()"
   ]
  },
  {
   "cell_type": "code",
   "execution_count": null,
   "metadata": {},
   "outputs": [],
   "source": []
  }
 ],
 "metadata": {
  "kernelspec": {
   "display_name": "Python 3",
   "language": "python",
   "name": "python3"
  },
  "language_info": {
   "codemirror_mode": {
    "name": "ipython",
    "version": 3
   },
   "file_extension": ".py",
   "mimetype": "text/x-python",
   "name": "python",
   "nbconvert_exporter": "python",
   "pygments_lexer": "ipython3",
   "version": "3.8.5"
  }
 },
 "nbformat": 4,
 "nbformat_minor": 4
}
